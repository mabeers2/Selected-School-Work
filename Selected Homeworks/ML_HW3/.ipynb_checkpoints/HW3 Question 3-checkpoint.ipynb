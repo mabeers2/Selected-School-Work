{
 "cells": [
  {
   "cell_type": "code",
   "execution_count": 3,
   "metadata": {
    "collapsed": true
   },
   "outputs": [],
   "source": [
    "from scipy.optimize import minimize\n",
    "import numpy as np\n",
    "import pandas as pd\n",
    "import matplotlib.pyplot as plt\n",
    "import sklearn\n",
    "import os\n",
    "import sys\n",
    "from collections import Counter"
   ]
  },
  {
   "cell_type": "code",
   "execution_count": 15,
   "metadata": {
    "collapsed": false
   },
   "outputs": [],
   "source": [
    "#Generate data\n",
    "x = np.random.uniform(low = -100, high = 100, size = 100)\n",
    "fx = 0.2 + 2*x+ x**2 + 3*x**3\n",
    "t = np.random.normal(loc = fx, scale = 1)\n",
    "\n",
    "def get_data(n_samples):\n",
    "    np.random.seed(127)\n",
    "    x = np.random.uniform(low = -100, high = 100, size = n_samples)\n",
    "    dat = pd.DataFrame({'intercept':[1]*n_samples, 'x':x, 'x2':x**2, 'x3':x**3})\n",
    "    fx = 0.2 + 2*x+ x**2 + 3*x**3\n",
    "    t = np.random.normal(loc = fx, scale = 1)\n",
    "    return (dat,t)\n",
    "\n",
    "#dat, t = get_data(100)\n",
    "x = np.random.uniform(low = -100, high = 100, size = 100)\n",
    "fx = 0.2 + 2*x+ x**2 + 3*x**3\n",
    "t = np.random.normal(loc = fx, scale = 1)"
   ]
  },
  {
   "cell_type": "code",
   "execution_count": 16,
   "metadata": {
    "collapsed": false
   },
   "outputs": [
    {
     "data": {
      "image/png": "[encoded data removed]",
      "text/plain": [
       "<matplotlib.figure.Figure at 0x11756a710>"
      ]
     },
     "metadata": {},
     "output_type": "display_data"
    }
   ],
   "source": [
    "plt.figure(1, figsize=(14, 4))\n",
    "plt.subplot(121)\n",
    "plt.plot(x, fx, 'ro')\n",
    "plt.xlabel(\"No noise\")\n",
    "plt.subplot(122)\n",
    "plt.plot(x, t, 'ro')\n",
    "plt.xlabel(\"Noise\")\n",
    "plt.show()"
   ]
  },
  {
   "cell_type": "code",
   "execution_count": 19,
   "metadata": {
    "collapsed": false
   },
   "outputs": [
    {
     "name": "stdout",
     "output_type": "stream",
     "text": [
      "CPU times: user 8.9 ms, sys: 18 ms, total: 26.9 ms\n",
      "Wall time: 52.2 ms\n",
      "4.96543722169e+14\n"
     ]
    }
   ],
   "source": [
    "def logl1(w,t,x):\n",
    "    s = sum((t - x.multiply(w[:4]).sum(axis = 1))**2)\n",
    "    return (-len(t)*np.log(w[4]) + w[4]*s)\n",
    "\n",
    "%time logl1([1,2,3,4,2], t, dat)\n",
    "print logl1([1,2,3,4,2], t, dat)"
   ]
  },
  {
   "cell_type": "markdown",
   "metadata": {},
   "source": [
    "# a)\n",
    "Perform MLE estimation of w and β. You may use the optimize module from scipy for this task. Give the estimates and describe how well they match the true parameters used to generate the data. Use 1000 and 10,000 training points (instead of the original 100). How do the parameter estimates change?"
   ]
  },
  {
   "cell_type": "code",
   "execution_count": 20,
   "metadata": {
    "collapsed": false
   },
   "outputs": [
    {
     "name": "stdout",
     "output_type": "stream",
     "text": [
      "CPU times: user 1.37 s, sys: 38.7 ms, total: 1.4 s\n",
      "Wall time: 1.58 s\n",
      "[ 0.23354716  1.99971021  0.99999844  2.99999947  3.35336339]\n"
     ]
    }
   ],
   "source": [
    "#100 samples\n",
    "#actual [.2, 2, 1, 3, 1]\n",
    "x0 = [2,1,1,1,2]\n",
    "dat, t = get_data(100)\n",
    "%time res = minimize(logl1, x0, args = (t,dat), method = \"BFGS\")\n",
    "print res.x"
   ]
  },
  {
   "cell_type": "code",
   "execution_count": 21,
   "metadata": {
    "collapsed": false
   },
   "outputs": [
    {
     "name": "stdout",
     "output_type": "stream",
     "text": [
      "CPU times: user 1.11 s, sys: 14 ms, total: 1.12 s\n",
      "Wall time: 1.23 s\n",
      "[ 0.15737463  1.99976986  1.00001278  3.00000001  1.00657037]\n"
     ]
    }
   ],
   "source": [
    "# 1000 training points \n",
    "x0 = [.2,2,1,3,1]\n",
    "dat, t = get_data(1000)\n",
    "%time res = minimize(logl1, x0, args = (t,dat), method = \"BFGS\")\n",
    "print res.x"
   ]
  },
  {
   "cell_type": "code",
   "execution_count": 22,
   "metadata": {
    "collapsed": false
   },
   "outputs": [
    {
     "name": "stdout",
     "output_type": "stream",
     "text": [
      "CPU times: user 2.31 s, sys: 135 ms, total: 2.45 s\n",
      "Wall time: 2.65 s\n",
      "[ 0.202908    1.99983103  0.99999874  3.00000001  3.35335035]\n"
     ]
    }
   ],
   "source": [
    "# 10000 training points \n",
    "x0 = [1,1,1,1,2]\n",
    "dat, t = get_data(10000)\n",
    "%time res = minimize(logl1, x0, args = (t,dat), method = \"BFGS\")\n",
    "print res.x"
   ]
  },
  {
   "cell_type": "markdown",
   "metadata": {},
   "source": [
    "# b)\n",
    "Perform MLE estimation of w and β. You may use the optimize module from scipy for this task. Give the estimates and describe how well they match the true parameters used to generate the data. Use 1000 and 10,000 training points (instead of the original 100). How do the parameter estimates change? THIS TIME USE A FIFTH DEGREE POLYNOMIAL. \n",
    "\n"
   ]
  },
  {
   "cell_type": "code",
   "execution_count": 24,
   "metadata": {
    "collapsed": false
   },
   "outputs": [
    {
     "name": "stdout",
     "output_type": "stream",
     "text": [
      "CPU times: user 3.18 ms, sys: 4.56 ms, total: 7.75 ms\n",
      "Wall time: 8.64 ms\n",
      "4.94638911625e+21\n"
     ]
    }
   ],
   "source": [
    "#necessary functions modified form above. \n",
    "def get_data5(n_samples):\n",
    "    np.random.seed(127)\n",
    "    x = np.random.uniform(low = -100, high = 100, size = n_samples)\n",
    "    dat = pd.DataFrame({'intercept':[1]*n_samples, 'x':x, 'x2':x**2, 'x3':x**3, 'x4':x**4, 'x5':x**5})\n",
    "    fx = 0.2 + 2*x+ x**2 + 3*x**3\n",
    "    t = np.random.normal(loc = fx, scale = 1)\n",
    "    return (dat,t)\n",
    "\n",
    "dat, t = get_data5(100)\n",
    "dat.head()\n",
    "\n",
    "\n",
    "def logl2(w,t,x):\n",
    "    s = sum((t - x.multiply(w[:6]).sum(axis = 1))**2)\n",
    "    return (-len(t)*np.log(w[6]) + w[6]*s)\n",
    "\n",
    "%time logl2([1,2,3,4,2, 2,2], t, dat)\n",
    "print logl2([1,2,3,4,2,2,2], t, dat)"
   ]
  },
  {
   "cell_type": "code",
   "execution_count": 25,
   "metadata": {
    "collapsed": false
   },
   "outputs": [
    {
     "name": "stdout",
     "output_type": "stream",
     "text": [
      "CPU times: user 1.73 s, sys: 22.8 ms, total: 1.75 s\n",
      "Wall time: 2.17 s\n",
      "[  1.05870630e+01  -1.05580015e+01   9.55210907e-01   3.00548096e+00\n",
      "   6.01656686e-06  -4.78450931e-07   1.85680172e+00]\n"
     ]
    }
   ],
   "source": [
    "#100 samples\n",
    "#actual [.2, 2, 1, 3, 1]\n",
    "x0 = [.2,1,1,3,.1, 0,1]\n",
    "dat, t = get_data5(1000)\n",
    "%time res = minimize(logl2, x0, args = (t,dat), method = \"BFGS\", tol = 1e-8)\n",
    "print res.x"
   ]
  },
  {
   "cell_type": "code",
   "execution_count": 26,
   "metadata": {
    "collapsed": false
   },
   "outputs": [
    {
     "name": "stdout",
     "output_type": "stream",
     "text": [
      "3.64039177299e+22\n"
     ]
    }
   ],
   "source": [
    "# because we have some singularity within our x^n's, we have to use a numerical minimization approach\n",
    "#just modify the logl2 function. That should be fine. \n",
    "\n",
    "def logl_bayes(w,t,x):\n",
    "    w = np.array(w)\n",
    "    s = sum((t - x.multiply(w).sum(axis = 1))**2) + sum(w**2)\n",
    "    return s\n",
    "\n",
    "print logl_bayes([1,2,3,4,2,2], t, dat)\n",
    "\n"
   ]
  },
  {
   "cell_type": "code",
   "execution_count": 35,
   "metadata": {
    "collapsed": false
   },
   "outputs": [
    {
     "name": "stdout",
     "output_type": "stream",
     "text": [
      "CPU times: user 921 ms, sys: 31.7 ms, total: 953 ms\n",
      "Wall time: 993 ms\n",
      "[ -2.03349506e+03  -5.52571027e+00   2.00952385e+00   3.00403780e+00\n",
      "  -9.54946477e-05  -3.56339470e-07]\n"
     ]
    }
   ],
   "source": [
    "dat, t = get_data5(100)\n",
    "x0 = [1,1,1,1,1,1]\n",
    "%time res = minimize(logl_bayes, x0, args = (t,dat), method = \"BFGS\", tol = 1e-8)\n",
    "resx_100 = res.x\n",
    "print resx_100"
   ]
  },
  {
   "cell_type": "code",
   "execution_count": 32,
   "metadata": {
    "collapsed": false
   },
   "outputs": [
    {
     "name": "stdout",
     "output_type": "stream",
     "text": [
      "CPU times: user 1.5 s, sys: 9.2 ms, total: 1.51 s\n",
      "Wall time: 1.54 s\n",
      "[  8.09214257e+01  -8.62929082e+00   9.73822559e-01   3.00479717e+00\n",
      "   2.15683160e-06  -4.21933432e-07]\n"
     ]
    }
   ],
   "source": [
    "dat, t = get_data5(1000)\n",
    "x0 = [1,1,1,1,1,1]\n",
    "%time res = minimize(logl_bayes, x0, args = (t,dat), method = \"BFGS\", tol = 1e-8)\n",
    "resx_1000 = res.x\n",
    "print resx_1000"
   ]
  },
  {
   "cell_type": "code",
   "execution_count": 33,
   "metadata": {
    "collapsed": false
   },
   "outputs": [
    {
     "name": "stdout",
     "output_type": "stream",
     "text": [
      "CPU times: user 5.61 s, sys: 568 ms, total: 6.18 s\n",
      "Wall time: 6.86 s\n",
      "[ -6.15672745e+00  -8.84978436e+00   1.00380404e+00   3.00505086e+00\n",
      "  -4.48978641e-07  -4.53574144e-07]\n"
     ]
    }
   ],
   "source": [
    "dat, t = get_data5(10000)\n",
    "x0 = [1,1,1,1,1,1]\n",
    "%time res = minimize(logl_bayes, x0, args = (t,dat), method = \"BFGS\", tol = 1e-8)\n",
    "resx_10000 = res.x\n",
    "print resx_10000"
   ]
  },
  {
   "cell_type": "code",
   "execution_count": 34,
   "metadata": {
    "collapsed": false
   },
   "outputs": [
    {
     "data": {
      "image/png": "[encoded data removed]",
      "text/plain": [
       "<matplotlib.figure.Figure at 0x1173f4c90>"
      ]
     },
     "metadata": {},
     "output_type": "display_data"
    }
   ],
   "source": [
    "#get quintic fit results on a single plot. \n",
    "f = plt.figure(figsize=(10, 5))\n",
    "x_space = np.linspace(-100, 100, 5000)\n",
    "X = pd.DataFrame({'intercept':[1]*5000, 'x':x_space**2, 'x2':x_space**2, 'x3':x_space**3, \n",
    "              'x4':x_space**4, 'x5':x_space**5})\n",
    "y100 = X.multiply(resx_100).sum(axis = 1)\n",
    "y1000 = X.multiply(resx_1000).sum(axis = 1)\n",
    "y10000 = X.multiply(resx_10000).sum(axis = 1)\n",
    "true = X.multiply([.2, 2, 1, 3, 0,0]).sum(axis = 1)\n",
    "\n",
    "plt.plot(x_space, y100, label='100 Training Examples')\n",
    "plt.plot(x_space, y1000, label='1000 Training Examples')\n",
    "plt.plot(x_space, y10000, label='10000 Training Examples')\n",
    "plt.plot(x_space, true, label='True')\n",
    "\n",
    "plt.title(\"Quintic Fit Results\")\n",
    "plt.legend()\n",
    "plt.show()\n",
    "\n",
    "f.savefig(\"quintic_fit.pdf\", bbox_inches='tight')"
   ]
  },
  {
   "cell_type": "code",
   "execution_count": null,
   "metadata": {
    "collapsed": true
   },
   "outputs": [],
   "source": []
  }
 ],
 "metadata": {
  "kernelspec": {
   "display_name": "Python 2",
   "language": "python",
   "name": "python2"
  },
  "language_info": {
   "codemirror_mode": {
    "name": "ipython",
    "version": 2
   },
   "file_extension": ".py",
   "mimetype": "text/x-python",
   "name": "python",
   "nbconvert_exporter": "python",
   "pygments_lexer": "ipython2",
   "version": "2.7.13"
  }
 },
 "nbformat": 4,
 "nbformat_minor": 2
}
